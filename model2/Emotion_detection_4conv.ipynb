{
 "cells": [
  {
   "cell_type": "code",
   "execution_count": 1,
   "metadata": {
    "executionInfo": {
     "elapsed": 4356,
     "status": "ok",
     "timestamp": 1676713178085,
     "user": {
      "displayName": "Ghazal Arzanian",
      "userId": "05904947232516538469"
     },
     "user_tz": -210
    },
    "id": "hMTQ33h1v2e8"
   },
   "outputs": [],
   "source": [
    "import tensorflow as tf\n",
    "import keras\n",
    "import numpy as np\n",
    "import pandas as pd\n",
    "import matplotlib.pyplot as plt\n",
    "import cv2\n",
    "from keras.utils import to_categorical\n",
    "from keras.models import Sequential\n",
    "from keras.preprocessing import image\n",
    "from keras.layers import Conv2D, MaxPooling2D, AveragePooling2D\n",
    "from keras.layers import Dense, Activation, Dropout, Flatten\n",
    "from keras.preprocessing.image import ImageDataGenerator\n",
    "from keras.callbacks import ModelCheckpoint,EarlyStopping\n",
    "from keras.optimizers import *\n",
    "from keras.layers import BatchNormalization"
   ]
  },
  {
   "cell_type": "code",
   "execution_count": 2,
   "metadata": {
    "colab": {
     "base_uri": "https://localhost:8080/"
    },
    "executionInfo": {
     "elapsed": 24903,
     "status": "ok",
     "timestamp": 1676713202978,
     "user": {
      "displayName": "Ghazal Arzanian",
      "userId": "05904947232516538469"
     },
     "user_tz": -210
    },
    "id": "VtyT_64fwAJP",
    "outputId": "7db5fb8f-055e-43f8-95dd-13f3aec92281"
   },
   "outputs": [
    {
     "name": "stdout",
     "output_type": "stream",
     "text": [
      "Mounted at /content/drive\n"
     ]
    }
   ],
   "source": [
    "from google.colab import drive\n",
    "drive.mount('/content/drive')"
   ]
  },
  {
   "cell_type": "code",
   "execution_count": 4,
   "metadata": {
    "executionInfo": {
     "elapsed": 6306,
     "status": "ok",
     "timestamp": 1676713226484,
     "user": {
      "displayName": "Ghazal Arzanian",
      "userId": "05904947232516538469"
     },
     "user_tz": -210
    },
    "id": "kn_up2POwAYl"
   },
   "outputs": [],
   "source": [
    "dataset_path = '/content/drive/MyDrive/datasets/emotion_detection/fer2013.csv'\n",
    "raw_df = pd.read_csv(dataset_path)"
   ]
  },
  {
   "cell_type": "code",
   "execution_count": 5,
   "metadata": {
    "executionInfo": {
     "elapsed": 7,
     "status": "ok",
     "timestamp": 1676713226484,
     "user": {
      "displayName": "Ghazal Arzanian",
      "userId": "05904947232516538469"
     },
     "user_tz": -210
    },
    "id": "jKLt-gQVwAmO"
   },
   "outputs": [],
   "source": [
    "num_classes = 7"
   ]
  },
  {
   "cell_type": "code",
   "execution_count": 6,
   "metadata": {
    "executionInfo": {
     "elapsed": 7,
     "status": "ok",
     "timestamp": 1676713226485,
     "user": {
      "displayName": "Ghazal Arzanian",
      "userId": "05904947232516538469"
     },
     "user_tz": -210
    },
    "id": "3CYqA47hwBBW"
   },
   "outputs": [],
   "source": [
    "def getData(filname):\n",
    "    Y = []\n",
    "    X = []\n",
    "    first = True\n",
    "    for line in open(filname):\n",
    "        if first:\n",
    "            first = False\n",
    "        else:\n",
    "            row = line.split(',')\n",
    "            Y.append(int(row[0]))\n",
    "            X.append([int(p) for p in row[1].split()])\n",
    "\n",
    "    X, Y = np.array(X) / 255.0, np.array(Y) #NORMALIZE\n",
    "    return X, Y"
   ]
  },
  {
   "cell_type": "code",
   "execution_count": 8,
   "metadata": {
    "colab": {
     "base_uri": "https://localhost:8080/"
    },
    "executionInfo": {
     "elapsed": 21730,
     "status": "ok",
     "timestamp": 1676713256037,
     "user": {
      "displayName": "Ghazal Arzanian",
      "userId": "05904947232516538469"
     },
     "user_tz": -210
    },
    "id": "9IsyJLH8wBQZ",
    "outputId": "0691959e-3bfb-4412-9cd6-3387aba73762"
   },
   "outputs": [
    {
     "name": "stdout",
     "output_type": "stream",
     "text": [
      "7\n"
     ]
    }
   ],
   "source": [
    "X, Y = getData(dataset_path)\n",
    "num_class = len(set(Y))\n",
    "print(num_class)"
   ]
  },
  {
   "cell_type": "code",
   "execution_count": 9,
   "metadata": {
    "executionInfo": {
     "elapsed": 6,
     "status": "ok",
     "timestamp": 1676713256038,
     "user": {
      "displayName": "Ghazal Arzanian",
      "userId": "05904947232516538469"
     },
     "user_tz": -210
    },
    "id": "6PrJLNDDwBh8"
   },
   "outputs": [],
   "source": [
    "N, D = X.shape\n",
    "X = X.reshape(N, 48, 48, 1)"
   ]
  },
  {
   "cell_type": "code",
   "execution_count": 10,
   "metadata": {
    "executionInfo": {
     "elapsed": 762,
     "status": "ok",
     "timestamp": 1676713256795,
     "user": {
      "displayName": "Ghazal Arzanian",
      "userId": "05904947232516538469"
     },
     "user_tz": -210
    },
    "id": "dkw0L0kswB9F"
   },
   "outputs": [],
   "source": [
    "from sklearn.model_selection import train_test_split\n",
    "\n",
    "X_train, X_test, y_train, y_test = train_test_split(X, Y, test_size=0.1, random_state=0)\n",
    "y_train = (np.arange(num_class) == y_train[:, None]).astype(np.float32)\n",
    "y_test = (np.arange(num_class) == y_test[:, None]).astype(np.float32)"
   ]
  },
  {
   "cell_type": "code",
   "execution_count": 11,
   "metadata": {
    "colab": {
     "base_uri": "https://localhost:8080/"
    },
    "executionInfo": {
     "elapsed": 609,
     "status": "ok",
     "timestamp": 1676713257400,
     "user": {
      "displayName": "Ghazal Arzanian",
      "userId": "05904947232516538469"
     },
     "user_tz": -210
    },
    "id": "1oI3TxPxwade",
    "outputId": "8ed13cf4-1914-4dba-9dbd-d7984e8ed305"
   },
   "outputs": [
    {
     "name": "stdout",
     "output_type": "stream",
     "text": [
      "32298 train samples\n",
      "3589 test samples\n"
     ]
    }
   ],
   "source": [
    "X_train = X_train.reshape(X_train.shape[0], 48, 48, 1)\n",
    "X_train = X_train.astype('float32')\n",
    "X_test = X_test.reshape(X_test.shape[0], 48, 48, 1)\n",
    "X_test = X_test.astype('float32')\n",
    "\n",
    "print(X_train.shape[0], 'train samples')\n",
    "print(X_test.shape[0], 'test samples')"
   ]
  },
  {
   "cell_type": "code",
   "execution_count": 12,
   "metadata": {
    "colab": {
     "base_uri": "https://localhost:8080/"
    },
    "executionInfo": {
     "elapsed": 5,
     "status": "ok",
     "timestamp": 1676713257401,
     "user": {
      "displayName": "Ghazal Arzanian",
      "userId": "05904947232516538469"
     },
     "user_tz": -210
    },
    "id": "QUR3vKS2wc97",
    "outputId": "b55ece38-e1fd-4cd8-f83c-265022d11665"
   },
   "outputs": [
    {
     "data": {
      "text/plain": [
       "(32298, 48, 48, 1)"
      ]
     },
     "execution_count": 12,
     "metadata": {},
     "output_type": "execute_result"
    }
   ],
   "source": [
    "X_train.shape"
   ]
  },
  {
   "cell_type": "code",
   "execution_count": 22,
   "metadata": {
    "executionInfo": {
     "elapsed": 329,
     "status": "ok",
     "timestamp": 1676715036190,
     "user": {
      "displayName": "Ghazal Arzanian",
      "userId": "05904947232516538469"
     },
     "user_tz": -210
    },
    "id": "Vc6vnfm9wd2Q"
   },
   "outputs": [],
   "source": [
    "model = Sequential()\n",
    "input_shape = (48,48,1)\n",
    "\n",
    "#CNN 1\n",
    "model.add(Conv2D(64, (5, 5), input_shape=input_shape,activation='relu', padding='same'))\n",
    "model.add(Conv2D(64, (5, 5), activation='relu', padding='same'))\n",
    "model.add(BatchNormalization())\n",
    "model.add(MaxPooling2D(pool_size=(2, 2)))\n",
    "\n",
    "\n",
    "#CNN 2\n",
    "model.add(Conv2D(128, (5, 5),activation='relu',padding='same'))\n",
    "model.add(Conv2D(128, (5, 5),activation='relu',padding='same'))\n",
    "model.add(BatchNormalization())\n",
    "model.add(MaxPooling2D(pool_size=(2, 2)))\n",
    "\n",
    "#CNN 3\n",
    "model.add(Conv2D(256, (5, 5),activation='relu',padding='same'))\n",
    "model.add(Conv2D(256, (5, 5),activation='relu',padding='same'))\n",
    "model.add(BatchNormalization())\n",
    "model.add(MaxPooling2D(pool_size=(2, 2)))\n",
    "\n",
    "#Full Connected \n",
    "model.add(Flatten())\n",
    "model.add(Dense(128))\n",
    "model.add(BatchNormalization())\n",
    "model.add(Activation('relu'))\n",
    "model.add(Dropout(0.2))\n",
    "model.add(Dense(7))\n",
    "model.add(Activation('softmax'))\n",
    "\n",
    "model.compile(loss='categorical_crossentropy', metrics=['accuracy'],optimizer='adam')"
   ]
  },
  {
   "cell_type": "code",
   "execution_count": 23,
   "metadata": {
    "colab": {
     "base_uri": "https://localhost:8080/"
    },
    "executionInfo": {
     "elapsed": 24,
     "status": "ok",
     "timestamp": 1676715039509,
     "user": {
      "displayName": "Ghazal Arzanian",
      "userId": "05904947232516538469"
     },
     "user_tz": -210
    },
    "id": "KkQLgQCzwlRv",
    "outputId": "a38f6462-825b-432c-809f-7bf21e9c3c41"
   },
   "outputs": [
    {
     "name": "stdout",
     "output_type": "stream",
     "text": [
      "Model: \"sequential_1\"\n",
      "_________________________________________________________________\n",
      " Layer (type)                Output Shape              Param #   \n",
      "=================================================================\n",
      " conv2d_6 (Conv2D)           (None, 48, 48, 64)        1664      \n",
      "                                                                 \n",
      " conv2d_7 (Conv2D)           (None, 48, 48, 64)        102464    \n",
      "                                                                 \n",
      " batch_normalization_4 (Batc  (None, 48, 48, 64)       256       \n",
      " hNormalization)                                                 \n",
      "                                                                 \n",
      " max_pooling2d_3 (MaxPooling  (None, 24, 24, 64)       0         \n",
      " 2D)                                                             \n",
      "                                                                 \n",
      " conv2d_8 (Conv2D)           (None, 24, 24, 128)       204928    \n",
      "                                                                 \n",
      " conv2d_9 (Conv2D)           (None, 24, 24, 128)       409728    \n",
      "                                                                 \n",
      " batch_normalization_5 (Batc  (None, 24, 24, 128)      512       \n",
      " hNormalization)                                                 \n",
      "                                                                 \n",
      " max_pooling2d_4 (MaxPooling  (None, 12, 12, 128)      0         \n",
      " 2D)                                                             \n",
      "                                                                 \n",
      " conv2d_10 (Conv2D)          (None, 12, 12, 256)       819456    \n",
      "                                                                 \n",
      " conv2d_11 (Conv2D)          (None, 12, 12, 256)       1638656   \n",
      "                                                                 \n",
      " batch_normalization_6 (Batc  (None, 12, 12, 256)      1024      \n",
      " hNormalization)                                                 \n",
      "                                                                 \n",
      " max_pooling2d_5 (MaxPooling  (None, 6, 6, 256)        0         \n",
      " 2D)                                                             \n",
      "                                                                 \n",
      " flatten_1 (Flatten)         (None, 9216)              0         \n",
      "                                                                 \n",
      " dense_2 (Dense)             (None, 128)               1179776   \n",
      "                                                                 \n",
      " batch_normalization_7 (Batc  (None, 128)              512       \n",
      " hNormalization)                                                 \n",
      "                                                                 \n",
      " activation_2 (Activation)   (None, 128)               0         \n",
      "                                                                 \n",
      " dropout_1 (Dropout)         (None, 128)               0         \n",
      "                                                                 \n",
      " dense_3 (Dense)             (None, 7)                 903       \n",
      "                                                                 \n",
      " activation_3 (Activation)   (None, 7)                 0         \n",
      "                                                                 \n",
      "=================================================================\n",
      "Total params: 4,359,879\n",
      "Trainable params: 4,358,727\n",
      "Non-trainable params: 1,152\n",
      "_________________________________________________________________\n"
     ]
    }
   ],
   "source": [
    "model.summary()"
   ]
  },
  {
   "cell_type": "code",
   "execution_count": 24,
   "metadata": {
    "executionInfo": {
     "elapsed": 2,
     "status": "ok",
     "timestamp": 1676715041473,
     "user": {
      "displayName": "Ghazal Arzanian",
      "userId": "05904947232516538469"
     },
     "user_tz": -210
    },
    "id": "DDrAm8yXwql_"
   },
   "outputs": [],
   "source": [
    "epochs = 6"
   ]
  },
  {
   "cell_type": "code",
   "execution_count": 25,
   "metadata": {
    "colab": {
     "base_uri": "https://localhost:8080/"
    },
    "executionInfo": {
     "elapsed": 144262,
     "status": "ok",
     "timestamp": 1676715186036,
     "user": {
      "displayName": "Ghazal Arzanian",
      "userId": "05904947232516538469"
     },
     "user_tz": -210
    },
    "id": "2mDmAUahwraV",
    "outputId": "d1b6a0e4-6cb8-496e-c7a8-a97f58afb323"
   },
   "outputs": [
    {
     "name": "stdout",
     "output_type": "stream",
     "text": [
      "Epoch 1/6\n",
      "505/505 [==============================] - 27s 45ms/step - loss: 1.7133 - accuracy: 0.3309 - val_loss: 1.4940 - val_accuracy: 0.4193\n",
      "Epoch 2/6\n",
      "505/505 [==============================] - 21s 42ms/step - loss: 1.3326 - accuracy: 0.4874 - val_loss: 1.3553 - val_accuracy: 0.4728\n",
      "Epoch 3/6\n",
      "505/505 [==============================] - 22s 43ms/step - loss: 1.1377 - accuracy: 0.5676 - val_loss: 1.2713 - val_accuracy: 0.5263\n",
      "Epoch 4/6\n",
      "505/505 [==============================] - 22s 43ms/step - loss: 1.0107 - accuracy: 0.6209 - val_loss: 1.0906 - val_accuracy: 0.5946\n",
      "Epoch 5/6\n",
      "505/505 [==============================] - 21s 42ms/step - loss: 0.8824 - accuracy: 0.6706 - val_loss: 1.0930 - val_accuracy: 0.5809\n",
      "Epoch 6/6\n",
      "505/505 [==============================] - 21s 42ms/step - loss: 0.7295 - accuracy: 0.7316 - val_loss: 1.1051 - val_accuracy: 0.6032\n"
     ]
    }
   ],
   "source": [
    "modelPath='/content/drive/MyDrive/datasets/emotion_detection/Models/Face_Expression_Classfication_4Conv_model.h5' # save model at this location after each epoch\n",
    "history=model.fit(x=X_train,     \n",
    "            y=y_train, \n",
    "            batch_size=64, \n",
    "            epochs=epochs, \n",
    "            verbose=1, \n",
    "            validation_data=(X_test,y_test),\n",
    "            shuffle=True,\n",
    "            callbacks=[ModelCheckpoint(filepath=modelPath)])"
   ]
  },
  {
   "cell_type": "code",
   "execution_count": 26,
   "metadata": {
    "colab": {
     "base_uri": "https://localhost:8080/",
     "height": 573
    },
    "executionInfo": {
     "elapsed": 707,
     "status": "ok",
     "timestamp": 1676715186719,
     "user": {
      "displayName": "Ghazal Arzanian",
      "userId": "05904947232516538469"
     },
     "user_tz": -210
    },
    "id": "wlxqBtFOxLb2",
    "outputId": "bd7294ec-fb4e-4674-e29d-f733e15a9c12"
   },
   "outputs": [
    {
     "data": {
      "image/png": "[encoded data removed]",
      "text/plain": [
       "<Figure size 432x288 with 1 Axes>"
      ]
     },
     "metadata": {
      "needs_background": "light"
     },
     "output_type": "display_data"
    },
    {
     "data": {
      "image/png": "[encoded data removed]",
      "text/plain": [
       "<Figure size 432x288 with 1 Axes>"
      ]
     },
     "metadata": {
      "needs_background": "light"
     },
     "output_type": "display_data"
    }
   ],
   "source": [
    "import matplotlib.pyplot as plt\n",
    "# summarize history for accuracy\n",
    "plt.plot(history.history['accuracy'])\n",
    "plt.plot(history.history['val_accuracy'])\n",
    "plt.title('model accuracy')\n",
    "plt.ylabel('accuracy')\n",
    "plt.xlabel('epoch')\n",
    "plt.legend(['Train', 'Validation'], loc='upper left')\n",
    "plt.show()\n",
    "# summarize history for loss\n",
    "plt.plot(history.history['loss'])\n",
    "plt.plot(history.history['val_loss'])\n",
    "plt.title('model loss')\n",
    "plt.ylabel('loss')\n",
    "plt.xlabel('epoch')\n",
    "plt.legend(['Train', 'Validation'], loc='upper left')\n",
    "plt.show()"
   ]
  },
  {
   "cell_type": "code",
   "execution_count": 27,
   "metadata": {
    "executionInfo": {
     "elapsed": 5,
     "status": "ok",
     "timestamp": 1676715186720,
     "user": {
      "displayName": "Ghazal Arzanian",
      "userId": "05904947232516538469"
     },
     "user_tz": -210
    },
    "id": "42QC6O7e4Vsp"
   },
   "outputs": [],
   "source": [
    "model.save('/content/drive/MyDrive/datasets/emotion_detection/Models/Face_Expression_Classfication_4Conv_backup_model.h5')"
   ]
  },
  {
   "cell_type": "code",
   "execution_count": 28,
   "metadata": {
    "executionInfo": {
     "elapsed": 2696,
     "status": "ok",
     "timestamp": 1676715214358,
     "user": {
      "displayName": "Ghazal Arzanian",
      "userId": "05904947232516538469"
     },
     "user_tz": -210
    },
    "id": "hLNnuhst5caQ"
   },
   "outputs": [],
   "source": [
    "loaded_model=keras.models.load_model(\"/content/drive/MyDrive/datasets/emotion_detection/Models/Face_Expression_Classfication_4Conv_backup_model.h5\")"
   ]
  },
  {
   "cell_type": "code",
   "execution_count": 29,
   "metadata": {
    "colab": {
     "base_uri": "https://localhost:8080/"
    },
    "executionInfo": {
     "elapsed": 12731,
     "status": "ok",
     "timestamp": 1676715234395,
     "user": {
      "displayName": "Ghazal Arzanian",
      "userId": "05904947232516538469"
     },
     "user_tz": -210
    },
    "id": "MnNsOqh3A7fZ",
    "outputId": "5e3551d0-7a77-43bc-8c99-57afa0c39762"
   },
   "outputs": [
    {
     "name": "stdout",
     "output_type": "stream",
     "text": [
      "Found 7178 images belonging to 7 classes.\n"
     ]
    }
   ],
   "source": [
    "datagen_validation = ImageDataGenerator(rescale = 1./255)\n",
    "validation_data = datagen_validation.flow_from_directory(\"/content/drive/MyDrive/datasets/emotion_detection/test/\",\n",
    "                                                    target_size=(48, 48),\n",
    "                                                    color_mode=\"grayscale\",\n",
    "                                                    class_mode='categorical',\n",
    "                                                    shuffle=False)"
   ]
  },
  {
   "cell_type": "code",
   "execution_count": null,
   "metadata": {
    "id": "FGX2ZR34A-Dm"
   },
   "outputs": [],
   "source": [
    "CNN_Predictions = loaded_model.predict(validation_data)\n",
    "# Choosing highest probalbilty class in every prediction \n",
    "CNN_Predictions = np.argmax(CNN_Predictions, axis=1)"
   ]
  },
  {
   "cell_type": "code",
   "execution_count": null,
   "metadata": {
    "executionInfo": {
     "elapsed": 8,
     "status": "aborted",
     "timestamp": 1676715722159,
     "user": {
      "displayName": "Ghazal Arzanian",
      "userId": "05904947232516538469"
     },
     "user_tz": -210
    },
    "id": "IdMUNSe-BDHr"
   },
   "outputs": [],
   "source": [
    "import seaborn as sns \n",
    "from sklearn.metrics import confusion_matrix\n",
    "\n",
    "fig, ax= plt.subplots(figsize=(15,10))\n",
    "\n",
    "cm=confusion_matrix(validation_data.labels, CNN_Predictions)\n",
    "\n",
    "sns.heatmap(cm, annot=True, fmt='g', ax=ax)\n",
    "\n",
    "ax.set_xlabel('Predicted labels',fontsize=15, fontweight='bold')\n",
    "ax.set_ylabel('True labels', fontsize=15, fontweight='bold')\n",
    "ax.set_title('CNN Confusion Matrix Model 3', fontsize=20, fontweight='bold')"
   ]
  },
  {
   "cell_type": "code",
   "execution_count": null,
   "metadata": {
    "id": "ubutMjFbBDzY"
   },
   "outputs": [],
   "source": []
  }
 ],
 "metadata": {
  "accelerator": "GPU",
  "colab": {
   "authorship_tag": "ABX9TyMlfaLL30CSH8enStrGfoRQ",
   "provenance": []
  },
  "gpuClass": "standard",
  "kernelspec": {
   "display_name": "Python 3 (ipykernel)",
   "language": "python",
   "name": "python3"
  },
  "language_info": {
   "codemirror_mode": {
    "name": "ipython",
    "version": 3
   },
   "file_extension": ".py",
   "mimetype": "text/x-python",
   "name": "python",
   "nbconvert_exporter": "python",
   "pygments_lexer": "ipython3",
   "version": "3.9.4"
  }
 },
 "nbformat": 4,
 "nbformat_minor": 4
}
