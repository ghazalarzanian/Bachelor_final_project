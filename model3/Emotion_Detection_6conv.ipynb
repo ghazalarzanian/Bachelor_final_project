{
 "cells": [
  {
   "cell_type": "code",
   "execution_count": 2,
   "metadata": {
    "executionInfo": {
     "elapsed": 3398,
     "status": "ok",
     "timestamp": 1676708604631,
     "user": {
      "displayName": "Ghazal Arzanian",
      "userId": "05904947232516538469"
     },
     "user_tz": -210
    },
    "id": "cs6nP3TBsQBF"
   },
   "outputs": [],
   "source": [
    "import tensorflow as tf\n",
    "import keras\n",
    "import numpy as np\n",
    "import pandas as pd\n",
    "import matplotlib.pyplot as plt\n",
    "import cv2\n",
    "from keras.utils import to_categorical\n",
    "from keras.models import Sequential\n",
    "from keras.preprocessing import image\n",
    "from keras.layers import Conv2D, MaxPooling2D, AveragePooling2D\n",
    "from keras.layers import Dense, Activation, Dropout, Flatten\n",
    "from keras.preprocessing.image import ImageDataGenerator\n",
    "from keras.callbacks import ModelCheckpoint,EarlyStopping\n",
    "from keras.optimizers import *\n",
    "from keras.layers import BatchNormalization"
   ]
  },
  {
   "cell_type": "code",
   "execution_count": 1,
   "metadata": {
    "colab": {
     "base_uri": "https://localhost:8080/"
    },
    "executionInfo": {
     "elapsed": 32913,
     "status": "ok",
     "timestamp": 1676708599624,
     "user": {
      "displayName": "Ghazal Arzanian",
      "userId": "05904947232516538469"
     },
     "user_tz": -210
    },
    "id": "7CDeupRPtcB8",
    "outputId": "d2bc12b5-e218-43f3-c1a4-2ab0e1181a6e"
   },
   "outputs": [
    {
     "name": "stdout",
     "output_type": "stream",
     "text": [
      "Mounted at /content/drive\n"
     ]
    }
   ],
   "source": [
    "from google.colab import drive\n",
    "drive.mount('/content/drive')"
   ]
  },
  {
   "cell_type": "code",
   "execution_count": 24,
   "metadata": {
    "executionInfo": {
     "elapsed": 448,
     "status": "ok",
     "timestamp": 1676710297627,
     "user": {
      "displayName": "Ghazal Arzanian",
      "userId": "05904947232516538469"
     },
     "user_tz": -210
    },
    "id": "qvDPQzzAtgcr"
   },
   "outputs": [],
   "source": [
    "dataset_path = '/content/drive/MyDrive/datasets/emotion_detection/fer2013.csv'"
   ]
  },
  {
   "cell_type": "code",
   "execution_count": 25,
   "metadata": {
    "executionInfo": {
     "elapsed": 318,
     "status": "ok",
     "timestamp": 1676710571564,
     "user": {
      "displayName": "Ghazal Arzanian",
      "userId": "05904947232516538469"
     },
     "user_tz": -210
    },
    "id": "rU-W1ODIuNFu"
   },
   "outputs": [],
   "source": [
    "num_classes = 7"
   ]
  },
  {
   "cell_type": "code",
   "execution_count": 26,
   "metadata": {
    "executionInfo": {
     "elapsed": 1,
     "status": "ok",
     "timestamp": 1676710571994,
     "user": {
      "displayName": "Ghazal Arzanian",
      "userId": "05904947232516538469"
     },
     "user_tz": -210
    },
    "id": "ocgqvjccuNYB"
   },
   "outputs": [],
   "source": [
    "def getData(filname):\n",
    "    Y = []\n",
    "    X = []\n",
    "    first = True\n",
    "    for line in open(filname):\n",
    "        if first:\n",
    "            first = False\n",
    "        else:\n",
    "            row = line.split(',')\n",
    "            Y.append(int(row[0]))\n",
    "            X.append([int(p) for p in row[1].split()])\n",
    "\n",
    "    X, Y = np.array(X) / 255.0, np.array(Y) #NORMALIZE\n",
    "    return X, Y"
   ]
  },
  {
   "cell_type": "code",
   "execution_count": null,
   "metadata": {
    "id": "gqlqwhyyuNsf"
   },
   "outputs": [],
   "source": [
    "X, Y = getData(dataset_path)\n",
    "num_class = len(set(Y))\n",
    "print(num_class)"
   ]
  },
  {
   "cell_type": "code",
   "execution_count": null,
   "metadata": {
    "executionInfo": {
     "elapsed": 6,
     "status": "aborted",
     "timestamp": 1676713142595,
     "user": {
      "displayName": "Ghazal Arzanian",
      "userId": "05904947232516538469"
     },
     "user_tz": -210
    },
    "id": "KoFf8h7OuhV6"
   },
   "outputs": [],
   "source": [
    "print(X.shape)"
   ]
  },
  {
   "cell_type": "code",
   "execution_count": null,
   "metadata": {
    "executionInfo": {
     "elapsed": 7,
     "status": "aborted",
     "timestamp": 1676713142596,
     "user": {
      "displayName": "Ghazal Arzanian",
      "userId": "05904947232516538469"
     },
     "user_tz": -210
    },
    "id": "41Pty6qfuOAq"
   },
   "outputs": [],
   "source": [
    "N, D = X.shape\n",
    "X = X.reshape(N, 48, 48, 1)"
   ]
  },
  {
   "cell_type": "code",
   "execution_count": 30,
   "metadata": {
    "executionInfo": {
     "elapsed": 3,
     "status": "ok",
     "timestamp": 1676710573850,
     "user": {
      "displayName": "Ghazal Arzanian",
      "userId": "05904947232516538469"
     },
     "user_tz": -210
    },
    "id": "7uR6tZYRutrr"
   },
   "outputs": [],
   "source": [
    "from sklearn.model_selection import train_test_split\n",
    "\n",
    "X_train, X_test, y_train, y_test = train_test_split(X, Y, test_size=0.1, random_state=0)\n",
    "y_train = (np.arange(num_class) == y_train[:, None]).astype(np.float32)\n",
    "y_test = (np.arange(num_class) == y_test[:, None]).astype(np.float32)"
   ]
  },
  {
   "cell_type": "code",
   "execution_count": 31,
   "metadata": {
    "colab": {
     "base_uri": "https://localhost:8080/"
    },
    "executionInfo": {
     "elapsed": 372,
     "status": "ok",
     "timestamp": 1676710574219,
     "user": {
      "displayName": "Ghazal Arzanian",
      "userId": "05904947232516538469"
     },
     "user_tz": -210
    },
    "id": "OLQkE1sPump-",
    "outputId": "2f48c008-fd69-40ef-e251-52083f3bf09f"
   },
   "outputs": [
    {
     "name": "stdout",
     "output_type": "stream",
     "text": [
      "32298 train samples\n",
      "3589 test samples\n"
     ]
    }
   ],
   "source": [
    "\n",
    "# Reshape each value from 1D(28709) to 3D(48,48,1)\n",
    "X_train = X_train.reshape(X_train.shape[0], 48, 48, 1)\n",
    "X_train = X_train.astype('float32')\n",
    "X_test = X_test.reshape(X_test.shape[0], 48, 48, 1)\n",
    "X_test = X_test.astype('float32')\n",
    "\n",
    "print(X_train.shape[0], 'train samples')\n",
    "print(X_test.shape[0], 'test samples')"
   ]
  },
  {
   "cell_type": "code",
   "execution_count": 32,
   "metadata": {
    "colab": {
     "base_uri": "https://localhost:8080/"
    },
    "executionInfo": {
     "elapsed": 7,
     "status": "ok",
     "timestamp": 1676710574220,
     "user": {
      "displayName": "Ghazal Arzanian",
      "userId": "05904947232516538469"
     },
     "user_tz": -210
    },
    "id": "NGW9SNLRupfb",
    "outputId": "90509864-144a-4724-b574-35e7782b6bbc"
   },
   "outputs": [
    {
     "data": {
      "text/plain": [
       "(32298, 48, 48, 1)"
      ]
     },
     "execution_count": 32,
     "metadata": {},
     "output_type": "execute_result"
    }
   ],
   "source": [
    "X_train.shape"
   ]
  },
  {
   "cell_type": "code",
   "execution_count": 33,
   "metadata": {
    "executionInfo": {
     "elapsed": 5,
     "status": "ok",
     "timestamp": 1676710574221,
     "user": {
      "displayName": "Ghazal Arzanian",
      "userId": "05904947232516538469"
     },
     "user_tz": -210
    },
    "id": "SL-SRurTua1T"
   },
   "outputs": [],
   "source": [
    "width, height = 48, 48\n",
    "batch_size = 64\n",
    "num_features = 64"
   ]
  },
  {
   "cell_type": "code",
   "execution_count": 39,
   "metadata": {
    "colab": {
     "base_uri": "https://localhost:8080/"
    },
    "executionInfo": {
     "elapsed": 946,
     "status": "ok",
     "timestamp": 1676710603689,
     "user": {
      "displayName": "Ghazal Arzanian",
      "userId": "05904947232516538469"
     },
     "user_tz": -210
    },
    "id": "wVcXGTaI1d9c",
    "outputId": "2b05280d-11da-47f8-ae48-dead4af2fe61"
   },
   "outputs": [
    {
     "name": "stdout",
     "output_type": "stream",
     "text": [
      "Model: \"sequential_3\"\n",
      "_________________________________________________________________\n",
      " Layer (type)                Output Shape              Param #   \n",
      "=================================================================\n",
      " conv2d_18 (Conv2D)          (None, 46, 46, 256)       2560      \n",
      "                                                                 \n",
      " batch_normalization_27 (Bat  (None, 46, 46, 256)      1024      \n",
      " chNormalization)                                                \n",
      "                                                                 \n",
      " activation_27 (Activation)  (None, 46, 46, 256)       0         \n",
      "                                                                 \n",
      " conv2d_19 (Conv2D)          (None, 46, 46, 256)       590080    \n",
      "                                                                 \n",
      " batch_normalization_28 (Bat  (None, 46, 46, 256)      1024      \n",
      " chNormalization)                                                \n",
      "                                                                 \n",
      " activation_28 (Activation)  (None, 46, 46, 256)       0         \n",
      "                                                                 \n",
      " max_pooling2d_9 (MaxPooling  (None, 23, 23, 256)      0         \n",
      " 2D)                                                             \n",
      "                                                                 \n",
      " conv2d_20 (Conv2D)          (None, 23, 23, 128)       295040    \n",
      "                                                                 \n",
      " batch_normalization_29 (Bat  (None, 23, 23, 128)      512       \n",
      " chNormalization)                                                \n",
      "                                                                 \n",
      " activation_29 (Activation)  (None, 23, 23, 128)       0         \n",
      "                                                                 \n",
      " conv2d_21 (Conv2D)          (None, 23, 23, 128)       147584    \n",
      "                                                                 \n",
      " batch_normalization_30 (Bat  (None, 23, 23, 128)      512       \n",
      " chNormalization)                                                \n",
      "                                                                 \n",
      " activation_30 (Activation)  (None, 23, 23, 128)       0         \n",
      "                                                                 \n",
      " max_pooling2d_10 (MaxPoolin  (None, 11, 11, 128)      0         \n",
      " g2D)                                                            \n",
      "                                                                 \n",
      " conv2d_22 (Conv2D)          (None, 11, 11, 64)        73792     \n",
      "                                                                 \n",
      " batch_normalization_31 (Bat  (None, 11, 11, 64)       256       \n",
      " chNormalization)                                                \n",
      "                                                                 \n",
      " activation_31 (Activation)  (None, 11, 11, 64)        0         \n",
      "                                                                 \n",
      " conv2d_23 (Conv2D)          (None, 11, 11, 64)        36928     \n",
      "                                                                 \n",
      " batch_normalization_32 (Bat  (None, 11, 11, 64)       256       \n",
      " chNormalization)                                                \n",
      "                                                                 \n",
      " activation_32 (Activation)  (None, 11, 11, 64)        0         \n",
      "                                                                 \n",
      " max_pooling2d_11 (MaxPoolin  (None, 5, 5, 64)         0         \n",
      " g2D)                                                            \n",
      "                                                                 \n",
      " flatten_3 (Flatten)         (None, 1600)              0         \n",
      "                                                                 \n",
      " dense_12 (Dense)            (None, 512)               819712    \n",
      "                                                                 \n",
      " batch_normalization_33 (Bat  (None, 512)              2048      \n",
      " chNormalization)                                                \n",
      "                                                                 \n",
      " activation_33 (Activation)  (None, 512)               0         \n",
      "                                                                 \n",
      " dense_13 (Dense)            (None, 256)               131328    \n",
      "                                                                 \n",
      " batch_normalization_34 (Bat  (None, 256)              1024      \n",
      " chNormalization)                                                \n",
      "                                                                 \n",
      " activation_34 (Activation)  (None, 256)               0         \n",
      "                                                                 \n",
      " dense_14 (Dense)            (None, 128)               32896     \n",
      "                                                                 \n",
      " batch_normalization_35 (Bat  (None, 128)              512       \n",
      " chNormalization)                                                \n",
      "                                                                 \n",
      " activation_35 (Activation)  (None, 128)               0         \n",
      "                                                                 \n",
      " dense_15 (Dense)            (None, 7)                 903       \n",
      "                                                                 \n",
      "=================================================================\n",
      "Total params: 2,137,991\n",
      "Trainable params: 2,134,407\n",
      "Non-trainable params: 3,584\n",
      "_________________________________________________________________\n"
     ]
    }
   ],
   "source": [
    "model = Sequential()\n",
    "# channels_last for 2D data: (rows, cols, channels)/channels_first: for 2D data: (channels, rows, cols)\n",
    "# 1st Convolutional Layer \n",
    "model.add(Conv2D(256, kernel_size=(3, 3), input_shape=(width, height, 1), data_format='channels_last'))\n",
    "model.add(BatchNormalization())\n",
    "model.add(Activation('relu'))\n",
    "# 2nd Convolutional Layer \n",
    "model.add(Conv2D(256, kernel_size=(3, 3), padding='same'))\n",
    "model.add(BatchNormalization())\n",
    "model.add(Activation('relu'))\n",
    "model.add(MaxPooling2D(pool_size=(2, 2), strides=(2, 2)))\n",
    "\n",
    "# 3rd Convolutional Layer \n",
    "model.add(Conv2D(128, kernel_size=(3, 3), padding='same'))\n",
    "model.add(BatchNormalization())\n",
    "model.add(Activation('relu'))\n",
    "\n",
    "# 4th Convolutional Layer \n",
    "model.add(Conv2D(128, kernel_size=(3, 3), padding='same'))\n",
    "model.add(BatchNormalization())\n",
    "model.add(Activation('relu'))\n",
    "model.add(MaxPooling2D(pool_size=(2, 2), strides=(2, 2)))\n",
    "\n",
    "# 5th Convolutional Layer \n",
    "model.add(Conv2D(64, kernel_size=(3, 3), padding='same'))\n",
    "model.add(BatchNormalization())\n",
    "model.add(Activation('relu'))\n",
    "\n",
    "# 6th Convolutional Layer \n",
    "model.add(Conv2D(64, kernel_size=(3, 3), padding='same'))\n",
    "model.add(BatchNormalization())\n",
    "model.add(Activation('relu'))\n",
    "model.add(MaxPooling2D(pool_size=(2, 2), strides=(2, 2)))\n",
    "\n",
    "#flatten\n",
    "model.add(Flatten())\n",
    "\n",
    "#1st Dense Layer\n",
    "model.add(Dense(512))\n",
    "model.add(BatchNormalization())\n",
    "model.add(Activation('relu'))\n",
    "\n",
    "#2nd Dense Layer\n",
    "model.add(Dense(256))\n",
    "model.add(BatchNormalization())\n",
    "model.add(Activation('relu'))\n",
    "\n",
    "#3rd Dense Layer\n",
    "model.add(Dense(128))\n",
    "model.add(BatchNormalization())\n",
    "model.add(Activation('relu'))\n",
    "\n",
    "#Output\n",
    "model.add(Dense(num_classes, activation='softmax'))\n",
    "\n",
    "model.compile(loss='categorical_crossentropy', \n",
    "              optimizer=Adam(lr=0.001, beta_1=0.9, beta_2=0.999, epsilon=1e-7), \n",
    "              metrics=['accuracy'])\n",
    "\n",
    "model.summary()"
   ]
  },
  {
   "cell_type": "code",
   "execution_count": 40,
   "metadata": {
    "executionInfo": {
     "elapsed": 6,
     "status": "ok",
     "timestamp": 1676710604016,
     "user": {
      "displayName": "Ghazal Arzanian",
      "userId": "05904947232516538469"
     },
     "user_tz": -210
    },
    "id": "dtJJ327ZUJ4l"
   },
   "outputs": [],
   "source": [
    "es = EarlyStopping(monitor='val_loss', patience = 10, mode = 'min', restore_best_weights=True)"
   ]
  },
  {
   "cell_type": "code",
   "execution_count": 41,
   "metadata": {
    "executionInfo": {
     "elapsed": 3,
     "status": "ok",
     "timestamp": 1676710604813,
     "user": {
      "displayName": "Ghazal Arzanian",
      "userId": "05904947232516538469"
     },
     "user_tz": -210
    },
    "id": "pwf76yt2u-7l"
   },
   "outputs": [],
   "source": [
    "data_generator = ImageDataGenerator(\n",
    "                        featurewise_center=False,\n",
    "                        featurewise_std_normalization=False,\n",
    "                        rotation_range=10,\n",
    "                        width_shift_range=0.1,\n",
    "                        height_shift_range=0.1,\n",
    "                        zoom_range=.1,\n",
    "                        horizontal_flip=True)"
   ]
  },
  {
   "cell_type": "code",
   "execution_count": 42,
   "metadata": {
    "executionInfo": {
     "elapsed": 2,
     "status": "ok",
     "timestamp": 1676710605843,
     "user": {
      "displayName": "Ghazal Arzanian",
      "userId": "05904947232516538469"
     },
     "user_tz": -210
    },
    "id": "Q9ucy1_2u_ys"
   },
   "outputs": [],
   "source": [
    "dataGEN = data_generator.flow(X_train, y_train, batch_size)"
   ]
  },
  {
   "cell_type": "code",
   "execution_count": 43,
   "metadata": {
    "colab": {
     "base_uri": "https://localhost:8080/"
    },
    "executionInfo": {
     "elapsed": 2013205,
     "status": "ok",
     "timestamp": 1676712620113,
     "user": {
      "displayName": "Ghazal Arzanian",
      "userId": "05904947232516538469"
     },
     "user_tz": -210
    },
    "id": "GnWq_UzhWwl2",
    "outputId": "c6788364-464c-4380-b853-2d6eb69a8ba7"
   },
   "outputs": [
    {
     "name": "stdout",
     "output_type": "stream",
     "text": [
      "Epoch 1/70\n",
      "504/504 [==============================] - 56s 108ms/step - loss: 1.6730 - accuracy: 0.3326 - val_loss: 1.7936 - val_accuracy: 0.3118\n",
      "Epoch 2/70\n",
      "504/504 [==============================] - 53s 105ms/step - loss: 1.3723 - accuracy: 0.4695 - val_loss: 1.2877 - val_accuracy: 0.5085\n",
      "Epoch 3/70\n",
      "504/504 [==============================] - 53s 104ms/step - loss: 1.2318 - accuracy: 0.5308 - val_loss: 1.5594 - val_accuracy: 0.4107\n",
      "Epoch 4/70\n",
      "504/504 [==============================] - 53s 106ms/step - loss: 1.1629 - accuracy: 0.5556 - val_loss: 1.4355 - val_accuracy: 0.4753\n",
      "Epoch 5/70\n",
      "504/504 [==============================] - 53s 106ms/step - loss: 1.1127 - accuracy: 0.5768 - val_loss: 1.1016 - val_accuracy: 0.5790\n",
      "Epoch 6/70\n",
      "504/504 [==============================] - 53s 106ms/step - loss: 1.0765 - accuracy: 0.5913 - val_loss: 1.0583 - val_accuracy: 0.5949\n",
      "Epoch 7/70\n",
      "504/504 [==============================] - 53s 105ms/step - loss: 1.0484 - accuracy: 0.6048 - val_loss: 1.2378 - val_accuracy: 0.5196\n",
      "Epoch 8/70\n",
      "504/504 [==============================] - 53s 105ms/step - loss: 1.0190 - accuracy: 0.6145 - val_loss: 1.3208 - val_accuracy: 0.5274\n",
      "Epoch 9/70\n",
      "504/504 [==============================] - 53s 105ms/step - loss: 0.9975 - accuracy: 0.6236 - val_loss: 1.1200 - val_accuracy: 0.5687\n",
      "Epoch 10/70\n",
      "504/504 [==============================] - 53s 105ms/step - loss: 0.9751 - accuracy: 0.6339 - val_loss: 1.0088 - val_accuracy: 0.6141\n",
      "Epoch 11/70\n",
      "504/504 [==============================] - 52s 104ms/step - loss: 0.9624 - accuracy: 0.6352 - val_loss: 1.1464 - val_accuracy: 0.5807\n",
      "Epoch 12/70\n",
      "504/504 [==============================] - 56s 111ms/step - loss: 0.9448 - accuracy: 0.6423 - val_loss: 1.0272 - val_accuracy: 0.6289\n",
      "Epoch 13/70\n",
      "504/504 [==============================] - 54s 107ms/step - loss: 0.9252 - accuracy: 0.6481 - val_loss: 0.9662 - val_accuracy: 0.6347\n",
      "Epoch 14/70\n",
      "504/504 [==============================] - 53s 105ms/step - loss: 0.9138 - accuracy: 0.6553 - val_loss: 0.9859 - val_accuracy: 0.6255\n",
      "Epoch 15/70\n",
      "504/504 [==============================] - 53s 106ms/step - loss: 0.8962 - accuracy: 0.6603 - val_loss: 0.9430 - val_accuracy: 0.6372\n",
      "Epoch 16/70\n",
      "504/504 [==============================] - 53s 106ms/step - loss: 0.8774 - accuracy: 0.6702 - val_loss: 1.0216 - val_accuracy: 0.6113\n",
      "Epoch 17/70\n",
      "504/504 [==============================] - 53s 105ms/step - loss: 0.8662 - accuracy: 0.6724 - val_loss: 1.0093 - val_accuracy: 0.6255\n",
      "Epoch 18/70\n",
      "504/504 [==============================] - 54s 106ms/step - loss: 0.8503 - accuracy: 0.6788 - val_loss: 1.0042 - val_accuracy: 0.6169\n",
      "Epoch 19/70\n",
      "504/504 [==============================] - 52s 104ms/step - loss: 0.8370 - accuracy: 0.6859 - val_loss: 0.9874 - val_accuracy: 0.6367\n",
      "Epoch 20/70\n",
      "504/504 [==============================] - 53s 104ms/step - loss: 0.8219 - accuracy: 0.6907 - val_loss: 0.9551 - val_accuracy: 0.6567\n",
      "Epoch 21/70\n",
      "504/504 [==============================] - 53s 105ms/step - loss: 0.8143 - accuracy: 0.6947 - val_loss: 0.9785 - val_accuracy: 0.6311\n",
      "Epoch 22/70\n",
      "504/504 [==============================] - 53s 105ms/step - loss: 0.8022 - accuracy: 0.6968 - val_loss: 0.9576 - val_accuracy: 0.6509\n",
      "Epoch 23/70\n",
      "504/504 [==============================] - 53s 105ms/step - loss: 0.7890 - accuracy: 0.7021 - val_loss: 0.9570 - val_accuracy: 0.6453\n",
      "Epoch 24/70\n",
      "504/504 [==============================] - 53s 104ms/step - loss: 0.7734 - accuracy: 0.7079 - val_loss: 0.9353 - val_accuracy: 0.6545\n",
      "Epoch 25/70\n",
      "504/504 [==============================] - 53s 106ms/step - loss: 0.7597 - accuracy: 0.7148 - val_loss: 0.9932 - val_accuracy: 0.6414\n",
      "Epoch 26/70\n",
      "504/504 [==============================] - 52s 104ms/step - loss: 0.7499 - accuracy: 0.7188 - val_loss: 0.9364 - val_accuracy: 0.6562\n",
      "Epoch 27/70\n",
      "504/504 [==============================] - 53s 105ms/step - loss: 0.7415 - accuracy: 0.7232 - val_loss: 0.9926 - val_accuracy: 0.6450\n",
      "Epoch 28/70\n",
      "504/504 [==============================] - 52s 104ms/step - loss: 0.7301 - accuracy: 0.7226 - val_loss: 0.9846 - val_accuracy: 0.6489\n",
      "Epoch 29/70\n",
      "504/504 [==============================] - 53s 104ms/step - loss: 0.7162 - accuracy: 0.7309 - val_loss: 0.9690 - val_accuracy: 0.6525\n",
      "Epoch 30/70\n",
      "504/504 [==============================] - 52s 103ms/step - loss: 0.7068 - accuracy: 0.7339 - val_loss: 0.9691 - val_accuracy: 0.6539\n",
      "Epoch 31/70\n",
      "504/504 [==============================] - 53s 105ms/step - loss: 0.6937 - accuracy: 0.7401 - val_loss: 1.0005 - val_accuracy: 0.6548\n",
      "Epoch 32/70\n",
      "504/504 [==============================] - 52s 104ms/step - loss: 0.6834 - accuracy: 0.7447 - val_loss: 1.0222 - val_accuracy: 0.6478\n",
      "Epoch 33/70\n",
      "504/504 [==============================] - 54s 106ms/step - loss: 0.6761 - accuracy: 0.7488 - val_loss: 1.0352 - val_accuracy: 0.6428\n",
      "Epoch 34/70\n",
      "504/504 [==============================] - 53s 105ms/step - loss: 0.6636 - accuracy: 0.7526 - val_loss: 0.9454 - val_accuracy: 0.6734\n"
     ]
    }
   ],
   "source": [
    "epochs = 70\n",
    "modelPath='/content/drive/MyDrive/datasets/emotion_detection/Models/Face_Expression_Classfication_6Conv_model.h5' # save model at this location after each epoch\n",
    "history = model.fit( dataGEN,\n",
    "                      steps_per_epoch=len(X_train) / batch_size,\n",
    "                      epochs=epochs,\n",
    "                      verbose=1, \n",
    "                      callbacks = [es, ModelCheckpoint(filepath=modelPath)],\n",
    "                      validation_data=(X_test,y_test))"
   ]
  },
  {
   "cell_type": "code",
   "execution_count": 44,
   "metadata": {
    "colab": {
     "base_uri": "https://localhost:8080/",
     "height": 573
    },
    "executionInfo": {
     "elapsed": 27,
     "status": "ok",
     "timestamp": 1676712620114,
     "user": {
      "displayName": "Ghazal Arzanian",
      "userId": "05904947232516538469"
     },
     "user_tz": -210
    },
    "id": "XbuO-erfW8VF",
    "outputId": "e5c6cb1c-d56e-42df-d643-50f6362c8b0f"
   },
   "outputs": [
    {
     "data": {
      "image/png": "[encoded data removed]",
      "text/plain": [
       "<Figure size 432x288 with 1 Axes>"
      ]
     },
     "metadata": {
      "needs_background": "light"
     },
     "output_type": "display_data"
    },
    {
     "data": {
      "image/png": "[encoded data removed]",
      "text/plain": [
       "<Figure size 432x288 with 1 Axes>"
      ]
     },
     "metadata": {
      "needs_background": "light"
     },
     "output_type": "display_data"
    }
   ],
   "source": [
    "import matplotlib.pyplot as plt\n",
    "# summarize history for accuracy\n",
    "plt.plot(history.history['accuracy'])\n",
    "plt.plot(history.history['val_accuracy'])\n",
    "plt.title('model accuracy')\n",
    "plt.ylabel('accuracy')\n",
    "plt.xlabel('epoch')\n",
    "plt.legend(['Train', 'Validation'], loc='upper left')\n",
    "plt.show()\n",
    "# summarize history for loss\n",
    "plt.plot(history.history['loss'])\n",
    "plt.plot(history.history['val_loss'])\n",
    "plt.title('model loss')\n",
    "plt.ylabel('loss')\n",
    "plt.xlabel('epoch')\n",
    "plt.legend(['Train', 'Validation'], loc='upper left')\n",
    "plt.show()"
   ]
  },
  {
   "cell_type": "code",
   "execution_count": 45,
   "metadata": {
    "executionInfo": {
     "elapsed": 3,
     "status": "ok",
     "timestamp": 1676712621355,
     "user": {
      "displayName": "Ghazal Arzanian",
      "userId": "05904947232516538469"
     },
     "user_tz": -210
    },
    "id": "kuOIYUH4x3HN"
   },
   "outputs": [],
   "source": [
    "model.save('/content/drive/MyDrive/datasets/emotion_detection/Models/Face_Expression_Classfication_6Conv_backup_model.h5')"
   ]
  },
  {
   "cell_type": "code",
   "execution_count": 50,
   "metadata": {
    "executionInfo": {
     "elapsed": 805,
     "status": "ok",
     "timestamp": 1676712780429,
     "user": {
      "displayName": "Ghazal Arzanian",
      "userId": "05904947232516538469"
     },
     "user_tz": -210
    },
    "id": "kaFP0ZChXSzP"
   },
   "outputs": [],
   "source": [
    "loaded_model = keras.models.load_model('/content/drive/MyDrive/datasets/emotion_detection/Models/Face_Expression_Classfication_6Conv_model.h5')"
   ]
  },
  {
   "cell_type": "code",
   "execution_count": 48,
   "metadata": {
    "colab": {
     "base_uri": "https://localhost:8080/"
    },
    "executionInfo": {
     "elapsed": 772,
     "status": "ok",
     "timestamp": 1676712757720,
     "user": {
      "displayName": "Ghazal Arzanian",
      "userId": "05904947232516538469"
     },
     "user_tz": -210
    },
    "id": "0xVHqyYTZYe1",
    "outputId": "81678556-f053-4f5f-e5ba-6e49418410b1"
   },
   "outputs": [
    {
     "name": "stdout",
     "output_type": "stream",
     "text": [
      "Found 7178 images belonging to 7 classes.\n"
     ]
    }
   ],
   "source": [
    "datagen_validation = ImageDataGenerator(rescale = 1./255)\n",
    "validation_data = datagen_validation.flow_from_directory(\"/content/drive/MyDrive/datasets/emotion_detection/test/\",\n",
    "                                                    target_size=(48, 48),\n",
    "                                                    color_mode=\"grayscale\",\n",
    "                                                    class_mode='categorical',\n",
    "                                                    shuffle=False)"
   ]
  },
  {
   "cell_type": "code",
   "execution_count": null,
   "metadata": {
    "id": "Qeu42gdTcHmV"
   },
   "outputs": [],
   "source": [
    "CNN_Predictions = loaded_model.predict(validation_data)\n",
    "# Choosing highest probalbilty class in every prediction \n",
    "CNN_Predictions = np.argmax(CNN_Predictions, axis=1)"
   ]
  },
  {
   "cell_type": "code",
   "execution_count": null,
   "metadata": {
    "executionInfo": {
     "elapsed": 9,
     "status": "aborted",
     "timestamp": 1676713059421,
     "user": {
      "displayName": "Ghazal Arzanian",
      "userId": "05904947232516538469"
     },
     "user_tz": -210
    },
    "id": "IMyetZAY3nPy"
   },
   "outputs": [],
   "source": [
    "import seaborn as sns \n",
    "from sklearn.metrics import confusion_matrix\n",
    "\n",
    "fig, ax= plt.subplots(figsize=(15,10))\n",
    "\n",
    "cm=confusion_matrix(validation_data.labels, CNN_Predictions)\n",
    "\n",
    "sns.heatmap(cm, annot=True, fmt='g', ax=ax)\n",
    "\n",
    "ax.set_xlabel('Predicted labels',fontsize=15, fontweight='bold')\n",
    "ax.set_ylabel('True labels', fontsize=15, fontweight='bold')\n",
    "ax.set_title('CNN Confusion Matrix Model 3', fontsize=20, fontweight='bold')"
   ]
  },
  {
   "cell_type": "code",
   "execution_count": null,
   "metadata": {
    "id": "nXhenj3w31Ch"
   },
   "outputs": [],
   "source": []
  }
 ],
 "metadata": {
  "accelerator": "GPU",
  "colab": {
   "authorship_tag": "ABX9TyPFs2YK9XP0nRzroLNAfLGs",
   "provenance": []
  },
  "gpuClass": "standard",
  "kernelspec": {
   "display_name": "Python 3 (ipykernel)",
   "language": "python",
   "name": "python3"
  },
  "language_info": {
   "codemirror_mode": {
    "name": "ipython",
    "version": 3
   },
   "file_extension": ".py",
   "mimetype": "text/x-python",
   "name": "python",
   "nbconvert_exporter": "python",
   "pygments_lexer": "ipython3",
   "version": "3.9.4"
  }
 },
 "nbformat": 4,
 "nbformat_minor": 4
}
